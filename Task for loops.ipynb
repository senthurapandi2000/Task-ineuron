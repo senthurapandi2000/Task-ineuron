{
 "cells": [
  {
   "cell_type": "raw",
   "id": "c197a037",
   "metadata": {},
   "source": [
    "Q1\n",
    "ineruon \n",
    "ineruon ineruon \n",
    "ineruon ineruon ineruon\n",
    "ineruon ineruon ineruon ineruon"
   ]
  },
  {
   "cell_type": "raw",
   "id": "7b63fb9f",
   "metadata": {},
   "source": [
    "q2 - \n",
    "          \n",
    "          ineruon\n",
    "    ineruon      ineruon\n",
    "ineruon\t\tineruon \tineruon\n",
    "\tineruon\t\t ineruon\n",
    "\t\t  ineruon"
   ]
  },
  {
   "cell_type": "raw",
   "id": "f90926d4",
   "metadata": {},
   "source": [
    "q3 : Try to extract all the list entity \n",
    "q4 : Try to extract all the dict enteties\n",
    "q5 : Try to extract all the tuples entities\n",
    "q6 : Try to extract all the numerical data it may b a part of dict key and values \n",
    "q7 : Try to give summation of all the numeric data \n",
    "q8 : Try to filter out all the odd values out all numeric data which is a part of a list \n",
    "q9 : Try to extract \"ineruon\" out of this data\n",
    "q10 :Try to find out a number of occurances of all the data \n",
    "q11 : Try to find out number of keys in dict element\n",
    "q12 : Try to filter out all the string data \n",
    "q13 : Try to Find  out alphanum in data\n",
    "q14 : Try to find out multiplication of all numeric value in  the individual collection inside dataset \n",
    "q15 : Try to unwrape all the collection inside collection and create a flat list"
   ]
  },
  {
   "cell_type": "code",
   "execution_count": 3,
   "id": "d530ea7e",
   "metadata": {},
   "outputs": [],
   "source": [
    "l = [[1,2,3,4] , (2,3,4,5,6) , (3,4,5,6,7) , set([23,4,5,45,4,4,5,45,45,4,5]) , {'k1' :\"sudh\" , \"k2\" : \"ineuron\",\"k3\":\n",
    "            \"kumar\" , 3:6 , 7:8} , [\"ineuron\" , \"data science \"]]"
   ]
  },
  {
   "cell_type": "code",
   "execution_count": 4,
   "id": "43525a52",
   "metadata": {},
   "outputs": [
    {
     "name": "stdout",
     "output_type": "stream",
     "text": [
      "[1, 2, 3, 4]\n",
      "['ineuron', 'data science ']\n"
     ]
    }
   ],
   "source": [
    "#3\n",
    "for i in l:\n",
    "    if type(i)==list:\n",
    "        print(i)"
   ]
  },
  {
   "cell_type": "code",
   "execution_count": 5,
   "id": "15a37145",
   "metadata": {},
   "outputs": [
    {
     "name": "stdout",
     "output_type": "stream",
     "text": [
      "{'k1': 'sudh', 'k2': 'ineuron', 'k3': 'kumar', 3: 6, 7: 8}\n"
     ]
    }
   ],
   "source": [
    "#4\n",
    "for i in l:\n",
    "    if type(i)==dict:\n",
    "        print(i)"
   ]
  },
  {
   "cell_type": "code",
   "execution_count": 6,
   "id": "d2c3c03c",
   "metadata": {},
   "outputs": [
    {
     "name": "stdout",
     "output_type": "stream",
     "text": [
      "(2, 3, 4, 5, 6)\n",
      "(3, 4, 5, 6, 7)\n"
     ]
    }
   ],
   "source": [
    "#5\n",
    "for i in l:\n",
    "    if type(i)==tuple:\n",
    "        print(i)"
   ]
  },
  {
   "cell_type": "code",
   "execution_count": 31,
   "id": "6198d8bc",
   "metadata": {},
   "outputs": [
    {
     "name": "stdout",
     "output_type": "stream",
     "text": [
      "[1, 2, 3, 4, 2, 3, 4, 5, 6, 3, 4, 5, 6, 7, 45, 4, 5, 23, 3, 6, 7, 8]\n"
     ]
    }
   ],
   "source": [
    "#6\n",
    "m = []\n",
    "for i in l:\n",
    "    if type(i)==int or type(i)==tuple or type(i)==set or type(i)==list:\n",
    "        for j in i:\n",
    "            if type(j)==int:\n",
    "                m.append(j)\n",
    "    if type(i)==dict:\n",
    "        for j in i.items():\n",
    "            for k in j:\n",
    "                if type(k)==int:\n",
    "                    m.append(k)\n",
    "print(m)\n",
    "\n",
    "        "
   ]
  },
  {
   "cell_type": "code",
   "execution_count": 33,
   "id": "c9d7d84f",
   "metadata": {},
   "outputs": [
    {
     "name": "stdout",
     "output_type": "stream",
     "text": [
      "156\n"
     ]
    }
   ],
   "source": [
    "#7\n",
    "print(sum(m))"
   ]
  },
  {
   "cell_type": "code",
   "execution_count": 35,
   "id": "453bcf02",
   "metadata": {},
   "outputs": [
    {
     "name": "stdout",
     "output_type": "stream",
     "text": [
      "1\n",
      "3\n",
      "3\n",
      "5\n",
      "3\n",
      "5\n",
      "7\n",
      "45\n",
      "5\n",
      "23\n",
      "3\n",
      "7\n"
     ]
    }
   ],
   "source": [
    "#8\n",
    "for i in m:\n",
    "    if i%2!=0:\n",
    "        print(i)"
   ]
  },
  {
   "cell_type": "code",
   "execution_count": 39,
   "id": "fed35243",
   "metadata": {},
   "outputs": [
    {
     "name": "stdout",
     "output_type": "stream",
     "text": [
      "['ineuron', 'ineuron']\n"
     ]
    }
   ],
   "source": [
    "#9\n",
    "n = []\n",
    "for i in l:\n",
    "    if type(i)==list or type(i)==set or type(i)==tuple:\n",
    "        for j in i:\n",
    "            if j==\"ineuron\":\n",
    "                n.append(j)\n",
    "    if type(i)==dict:\n",
    "        for k in i.items():\n",
    "            for g in k:\n",
    "                if g==\"ineuron\":\n",
    "                    n.append(g)\n",
    "print(n)"
   ]
  },
  {
   "cell_type": "code",
   "execution_count": 41,
   "id": "e1009ecb",
   "metadata": {},
   "outputs": [
    {
     "name": "stdout",
     "output_type": "stream",
     "text": [
      "[1, 2, 3, 4, 2, 3, 4, 5, 6, 3, 4, 5, 6, 7, 45, 4, 5, 23, 'k1', 'sudh', 'k2', 'ineuron', 'k3', 'kumar', 3, 6, 7, 8, 'ineuron', 'data science ']\n"
     ]
    }
   ],
   "source": [
    "#10\n",
    "q = []\n",
    "for i in l:\n",
    "    if type(i)==list or type(i)==set or type(i)==tuple:\n",
    "        for j in i:\n",
    "            q.append(j)\n",
    "    if type(i)==dict:\n",
    "        for k in i.items():\n",
    "            for o in k:\n",
    "                q.append(o)\n",
    "print(q)"
   ]
  },
  {
   "cell_type": "code",
   "execution_count": 45,
   "id": "07fd4c85",
   "metadata": {
    "scrolled": true
   },
   "outputs": [
    {
     "name": "stdout",
     "output_type": "stream",
     "text": [
      "1 : 1\n",
      "2 : 2\n",
      "3 : 4\n",
      "4 : 4\n",
      "2 : 2\n",
      "3 : 4\n",
      "4 : 4\n",
      "5 : 3\n",
      "6 : 3\n",
      "3 : 4\n",
      "4 : 4\n",
      "5 : 3\n",
      "6 : 3\n",
      "7 : 2\n",
      "45 : 1\n",
      "4 : 4\n",
      "5 : 3\n",
      "23 : 1\n",
      "k1 : 1\n",
      "sudh : 1\n",
      "k2 : 1\n",
      "ineuron : 2\n",
      "k3 : 1\n",
      "kumar : 1\n",
      "3 : 4\n",
      "6 : 3\n",
      "7 : 2\n",
      "8 : 1\n",
      "ineuron : 2\n",
      "data science  : 1\n"
     ]
    }
   ],
   "source": [
    "#10 continuation\n",
    "for i in q:\n",
    "    print(i,\":\",q.count(i))"
   ]
  },
  {
   "cell_type": "code",
   "execution_count": 46,
   "id": "3e54ef90",
   "metadata": {},
   "outputs": [
    {
     "name": "stdout",
     "output_type": "stream",
     "text": [
      "k1\n",
      "k2\n",
      "k3\n",
      "3\n",
      "7\n"
     ]
    }
   ],
   "source": [
    "#11\n",
    "for i in l:\n",
    "    if type(i)==dict:\n",
    "        for j in i.keys():\n",
    "            print(j)"
   ]
  },
  {
   "cell_type": "code",
   "execution_count": 47,
   "id": "d676a80f",
   "metadata": {},
   "outputs": [
    {
     "name": "stdout",
     "output_type": "stream",
     "text": [
      "['k1', 'sudh', 'k2', 'ineuron', 'k3', 'kumar', 'ineuron', 'data science ']\n"
     ]
    }
   ],
   "source": [
    "#12\n",
    "b = []\n",
    "for i in l:\n",
    "    if type(i)==int or type(i)==tuple or type(i)==set or type(i)==list:\n",
    "        for j in i:\n",
    "            if type(j)==str:\n",
    "                b.append(j)\n",
    "    if type(i)==dict:\n",
    "        for j in i.items():\n",
    "            for k in j:\n",
    "                if type(k)==str:\n",
    "                    b.append(k)\n",
    "print(b)"
   ]
  },
  {
   "cell_type": "code",
   "execution_count": 51,
   "id": "7a64253f",
   "metadata": {},
   "outputs": [
    {
     "name": "stdout",
     "output_type": "stream",
     "text": [
      "k1\n",
      "sudh\n",
      "k2\n",
      "ineuron\n",
      "k3\n",
      "kumar\n",
      "ineuron\n"
     ]
    }
   ],
   "source": [
    "#13\n",
    "for i in b:\n",
    "    if i.isalnum():\n",
    "        print(i)"
   ]
  },
  {
   "cell_type": "code",
   "execution_count": 59,
   "id": "6d0f2cab",
   "metadata": {},
   "outputs": [
    {
     "name": "stdout",
     "output_type": "stream",
     "text": [
      "24 : <class 'list'>\n",
      "720 : <class 'tuple'>\n",
      "2520 : <class 'tuple'>\n",
      "20700 : <class 'set'>\n",
      "1008 : <class 'dict'>\n",
      "1 : <class 'list'>\n"
     ]
    }
   ],
   "source": [
    "#14\n",
    "for i in l:\n",
    "    m = 1\n",
    "    if type(i)==int or type(i)==list or type(i)==tuple or type(i)==set:\n",
    "        for j in i:\n",
    "            if type(j) == int:\n",
    "                m = m*j\n",
    "        print(m,\":\",type(i))\n",
    "    if type(i)==dict:\n",
    "        for j in i.items():\n",
    "            for k in j:\n",
    "                if type(k)==int:\n",
    "                    m*=k\n",
    "        print(m,\":\",type(i))"
   ]
  },
  {
   "cell_type": "code",
   "execution_count": 60,
   "id": "2cda54b4",
   "metadata": {},
   "outputs": [
    {
     "name": "stdout",
     "output_type": "stream",
     "text": [
      "[1, 2, 3, 4, 2, 3, 4, 5, 6, 3, 4, 5, 6, 7, 45, 4, 5, 23, 'k1', 'sudh', 'k2', 'ineuron', 'k3', 'kumar', 3, 6, 7, 8, 'ineuron', 'data science ']\n"
     ]
    }
   ],
   "source": [
    "#15\n",
    "print(q)"
   ]
  },
  {
   "cell_type": "code",
   "execution_count": 62,
   "id": "2c35087d",
   "metadata": {},
   "outputs": [
    {
     "name": "stdout",
     "output_type": "stream",
     "text": [
      "pandi \n",
      "pandi pandi \n",
      "pandi pandi pandi \n",
      "pandi pandi pandi pandi \n"
     ]
    }
   ],
   "source": [
    "#1\n",
    "n = 4\n",
    "for i in range(n):\n",
    "    for j in range(i+1):\n",
    "        print('pandi',end = ' ')\n",
    "    print()"
   ]
  },
  {
   "cell_type": "code",
   "execution_count": 87,
   "id": "9f5c8f58",
   "metadata": {},
   "outputs": [
    {
     "name": "stdout",
     "output_type": "stream",
     "text": [
      "enter an number : 4\n",
      "ineuron\n",
      "\t\n",
      "ineuronineuron\n",
      "\t\n",
      "ineuronineuronineuron\n",
      "\t\n",
      "ineuronineuronineuronineuron\n",
      "\t\n"
     ]
    }
   ],
   "source": [
    "n = int(input('enter an number : '))\n",
    "for i in range(n):\n",
    "    print(\"ineuron\"*(i+1))\n",
    "    print(\"\\t\")"
   ]
  },
  {
   "cell_type": "raw",
   "id": "c69233cf",
   "metadata": {},
   "source": [
    "\n",
    "q2 - \n",
    "          \n",
    "          ineruon\n",
    "    ineruon      ineruon\n",
    "ineruon\t\tineruon \tineruon\n",
    "\tineruon\t\t ineruon\n",
    "\t\t  ineruon"
   ]
  },
  {
   "cell_type": "code",
   "execution_count": 78,
   "id": "1eeed8f4",
   "metadata": {},
   "outputs": [
    {
     "name": "stdout",
     "output_type": "stream",
     "text": [
      "        ineuron \n",
      "\n",
      "    ineuron ineuron \n",
      "\n",
      "ineuron ineuron ineuron \n",
      "\n"
     ]
    }
   ],
   "source": [
    "n = 3\n",
    "for i in range(n):\n",
    "    for j in range(n-i-1):\n",
    "        print('  ',end= '  ')\n",
    "    for k in range(i+1):\n",
    "        print('ineuron',end = ' ')\n",
    "    print('\\n')"
   ]
  },
  {
   "cell_type": "code",
   "execution_count": 93,
   "id": "ad523e73",
   "metadata": {},
   "outputs": [
    {
     "name": "stdout",
     "output_type": "stream",
     "text": [
      "                                                  \n",
      "                     ineuron                      \n",
      "                 ineuron ineuron                  \n",
      "             ineuron ineuron ineuron              \n",
      "                 ineuron ineuron                  \n",
      "                     ineuron                      \n"
     ]
    }
   ],
   "source": [
    "#2\n",
    "for i in range(6):\n",
    "    if i<=3:\n",
    "        n = i\n",
    "    else:\n",
    "        n = 6-i\n",
    "    print((\"ineuron \"*n).center(50,' '))"
   ]
  },
  {
   "cell_type": "code",
   "execution_count": null,
   "id": "ef389824",
   "metadata": {},
   "outputs": [],
   "source": []
  },
  {
   "cell_type": "code",
   "execution_count": null,
   "id": "e5b2cc5c",
   "metadata": {},
   "outputs": [],
   "source": []
  },
  {
   "cell_type": "code",
   "execution_count": null,
   "id": "7fc3ae0a",
   "metadata": {},
   "outputs": [],
   "source": []
  }
 ],
 "metadata": {
  "kernelspec": {
   "display_name": "Python 3",
   "language": "python",
   "name": "python3"
  },
  "language_info": {
   "codemirror_mode": {
    "name": "ipython",
    "version": 3
   },
   "file_extension": ".py",
   "mimetype": "text/x-python",
   "name": "python",
   "nbconvert_exporter": "python",
   "pygments_lexer": "ipython3",
   "version": "3.8.8"
  }
 },
 "nbformat": 4,
 "nbformat_minor": 5
}
